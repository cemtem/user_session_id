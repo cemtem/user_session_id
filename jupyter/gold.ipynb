{
 "cells": [
  {
   "cell_type": "code",
   "id": "initial_id",
   "metadata": {
    "collapsed": true,
    "ExecuteTime": {
     "end_time": "2025-08-10T20:15:24.849808Z",
     "start_time": "2025-08-10T20:15:24.844664Z"
    }
   },
   "source": [
    "import pandas as pd\n",
    "from deltalake import DeltaTable\n",
    "import numpy as np"
   ],
   "outputs": [],
   "execution_count": 253
  },
  {
   "metadata": {
    "ExecuteTime": {
     "end_time": "2025-08-10T20:15:24.910731Z",
     "start_time": "2025-08-10T20:15:24.888746Z"
    }
   },
   "cell_type": "code",
   "source": [
    "dt = DeltaTable(\"../data_warehouse/gold/events\")\n",
    "df = dt.to_pandas()"
   ],
   "id": "83e4b0c9f5472fa5",
   "outputs": [],
   "execution_count": 254
  },
  {
   "metadata": {
    "ExecuteTime": {
     "end_time": "2025-08-10T20:15:24.951743Z",
     "start_time": "2025-08-10T20:15:24.946225Z"
    }
   },
   "cell_type": "code",
   "source": [
    "test_df = df\n",
    "test_df[\"timestamp_long\"] = df[\"timestamp\"].values.astype(np.int64)"
   ],
   "id": "446d54530acdd095",
   "outputs": [],
   "execution_count": 255
  },
  {
   "metadata": {
    "ExecuteTime": {
     "end_time": "2025-08-10T20:15:24.998694Z",
     "start_time": "2025-08-10T20:15:24.989685Z"
    }
   },
   "cell_type": "code",
   "source": "df.shape",
   "id": "4b8b6e8c06742d43",
   "outputs": [
    {
     "data": {
      "text/plain": [
       "(523, 10)"
      ]
     },
     "execution_count": 256,
     "metadata": {},
     "output_type": "execute_result"
    }
   ],
   "execution_count": 256
  },
  {
   "metadata": {
    "ExecuteTime": {
     "end_time": "2025-08-10T20:15:25.065514Z",
     "start_time": "2025-08-10T20:15:25.057918Z"
    }
   },
   "cell_type": "code",
   "source": "test_df[\"user_session_id\"].drop_duplicates().shape",
   "id": "8a8ffbf5642deee",
   "outputs": [
    {
     "data": {
      "text/plain": [
       "(500,)"
      ]
     },
     "execution_count": 257,
     "metadata": {},
     "output_type": "execute_result"
    }
   ],
   "execution_count": 257
  },
  {
   "metadata": {
    "ExecuteTime": {
     "end_time": "2025-08-10T20:15:25.173767Z",
     "start_time": "2025-08-10T20:15:25.154450Z"
    }
   },
   "cell_type": "code",
   "source": "num_of_source_files_df = test_df.groupby([\"user_session_id\"]).nunique(\"_ingest_date\").reset_index()[[\"user_session_id\", \"_ingest_date\"]].sort_values(\"_ingest_date\", ascending=False).rename(columns={\"_ingest_date\":\"num_of_source_files\"})",
   "id": "2000171ba0476b42",
   "outputs": [],
   "execution_count": 258
  },
  {
   "metadata": {
    "ExecuteTime": {
     "end_time": "2025-08-10T20:15:25.223323Z",
     "start_time": "2025-08-10T20:15:25.208447Z"
    }
   },
   "cell_type": "code",
   "source": "num_of_source_files_df",
   "id": "bd9f14a653cf0072",
   "outputs": [
    {
     "data": {
      "text/plain": [
       "                                       user_session_id  num_of_source_files\n",
       "0    02d20bbd7e394ad5999a4cebabac9619732c343a4cac99...                    1\n",
       "1    02d20bbd7e394ad5999a4cebabac9619732c343a4cac99...                    1\n",
       "2    02d20bbd7e394ad5999a4cebabac9619732c343a4cac99...                    1\n",
       "3    02d20bbd7e394ad5999a4cebabac9619732c343a4cac99...                    1\n",
       "4    02d20bbd7e394ad5999a4cebabac9619732c343a4cac99...                    1\n",
       "..                                                 ...                  ...\n",
       "495  ff5a1ae012afa5d4c889c50ad427aaf545d31a4fac04ff...                    1\n",
       "496  ff5a1ae012afa5d4c889c50ad427aaf545d31a4fac04ff...                    1\n",
       "497  ff5a1ae012afa5d4c889c50ad427aaf545d31a4fac04ff...                    1\n",
       "498  ff5a1ae012afa5d4c889c50ad427aaf545d31a4fac04ff...                    1\n",
       "499  ff5a1ae012afa5d4c889c50ad427aaf545d31a4fac04ff...                    1\n",
       "\n",
       "[500 rows x 2 columns]"
      ],
      "text/html": [
       "<div>\n",
       "<style scoped>\n",
       "    .dataframe tbody tr th:only-of-type {\n",
       "        vertical-align: middle;\n",
       "    }\n",
       "\n",
       "    .dataframe tbody tr th {\n",
       "        vertical-align: top;\n",
       "    }\n",
       "\n",
       "    .dataframe thead th {\n",
       "        text-align: right;\n",
       "    }\n",
       "</style>\n",
       "<table border=\"1\" class=\"dataframe\">\n",
       "  <thead>\n",
       "    <tr style=\"text-align: right;\">\n",
       "      <th></th>\n",
       "      <th>user_session_id</th>\n",
       "      <th>num_of_source_files</th>\n",
       "    </tr>\n",
       "  </thead>\n",
       "  <tbody>\n",
       "    <tr>\n",
       "      <th>0</th>\n",
       "      <td>02d20bbd7e394ad5999a4cebabac9619732c343a4cac99...</td>\n",
       "      <td>1</td>\n",
       "    </tr>\n",
       "    <tr>\n",
       "      <th>1</th>\n",
       "      <td>02d20bbd7e394ad5999a4cebabac9619732c343a4cac99...</td>\n",
       "      <td>1</td>\n",
       "    </tr>\n",
       "    <tr>\n",
       "      <th>2</th>\n",
       "      <td>02d20bbd7e394ad5999a4cebabac9619732c343a4cac99...</td>\n",
       "      <td>1</td>\n",
       "    </tr>\n",
       "    <tr>\n",
       "      <th>3</th>\n",
       "      <td>02d20bbd7e394ad5999a4cebabac9619732c343a4cac99...</td>\n",
       "      <td>1</td>\n",
       "    </tr>\n",
       "    <tr>\n",
       "      <th>4</th>\n",
       "      <td>02d20bbd7e394ad5999a4cebabac9619732c343a4cac99...</td>\n",
       "      <td>1</td>\n",
       "    </tr>\n",
       "    <tr>\n",
       "      <th>...</th>\n",
       "      <td>...</td>\n",
       "      <td>...</td>\n",
       "    </tr>\n",
       "    <tr>\n",
       "      <th>495</th>\n",
       "      <td>ff5a1ae012afa5d4c889c50ad427aaf545d31a4fac04ff...</td>\n",
       "      <td>1</td>\n",
       "    </tr>\n",
       "    <tr>\n",
       "      <th>496</th>\n",
       "      <td>ff5a1ae012afa5d4c889c50ad427aaf545d31a4fac04ff...</td>\n",
       "      <td>1</td>\n",
       "    </tr>\n",
       "    <tr>\n",
       "      <th>497</th>\n",
       "      <td>ff5a1ae012afa5d4c889c50ad427aaf545d31a4fac04ff...</td>\n",
       "      <td>1</td>\n",
       "    </tr>\n",
       "    <tr>\n",
       "      <th>498</th>\n",
       "      <td>ff5a1ae012afa5d4c889c50ad427aaf545d31a4fac04ff...</td>\n",
       "      <td>1</td>\n",
       "    </tr>\n",
       "    <tr>\n",
       "      <th>499</th>\n",
       "      <td>ff5a1ae012afa5d4c889c50ad427aaf545d31a4fac04ff...</td>\n",
       "      <td>1</td>\n",
       "    </tr>\n",
       "  </tbody>\n",
       "</table>\n",
       "<p>500 rows × 2 columns</p>\n",
       "</div>"
      ]
     },
     "execution_count": 259,
     "metadata": {},
     "output_type": "execute_result"
    }
   ],
   "execution_count": 259
  },
  {
   "metadata": {
    "ExecuteTime": {
     "end_time": "2025-08-10T20:15:25.393183Z",
     "start_time": "2025-08-10T20:15:25.372632Z"
    }
   },
   "cell_type": "code",
   "source": "test_df[test_df[\"user_session_id\"]==\"35135aaa6cc23891b40cb3f378c53a17a1127210ce60e125ccf03efcfdaec458#PC#1753706482\"]",
   "id": "a1c2b43218056f35",
   "outputs": [
    {
     "data": {
      "text/plain": [
       "                                              user_id event_id  \\\n",
       "12  35135aaa6cc23891b40cb3f378c53a17a1127210ce60e1...        b   \n",
       "\n",
       "             timestamp product_code        date  \\\n",
       "12 2025-07-28 12:41:22           PC  2025-07-28   \n",
       "\n",
       "                                      user_session_id  \\\n",
       "12  35135aaa6cc23891b40cb3f378c53a17a1127210ce60e1...   \n",
       "\n",
       "                                         _source_file  \\\n",
       "12  file:///opt/source_data/events/batch_2025-07-3...   \n",
       "\n",
       "                  _ingest_ts _ingest_date    timestamp_long  \n",
       "12 2025-07-31 00:00:00+00:00   2025-07-31  1753706482000000  "
      ],
      "text/html": [
       "<div>\n",
       "<style scoped>\n",
       "    .dataframe tbody tr th:only-of-type {\n",
       "        vertical-align: middle;\n",
       "    }\n",
       "\n",
       "    .dataframe tbody tr th {\n",
       "        vertical-align: top;\n",
       "    }\n",
       "\n",
       "    .dataframe thead th {\n",
       "        text-align: right;\n",
       "    }\n",
       "</style>\n",
       "<table border=\"1\" class=\"dataframe\">\n",
       "  <thead>\n",
       "    <tr style=\"text-align: right;\">\n",
       "      <th></th>\n",
       "      <th>user_id</th>\n",
       "      <th>event_id</th>\n",
       "      <th>timestamp</th>\n",
       "      <th>product_code</th>\n",
       "      <th>date</th>\n",
       "      <th>user_session_id</th>\n",
       "      <th>_source_file</th>\n",
       "      <th>_ingest_ts</th>\n",
       "      <th>_ingest_date</th>\n",
       "      <th>timestamp_long</th>\n",
       "    </tr>\n",
       "  </thead>\n",
       "  <tbody>\n",
       "    <tr>\n",
       "      <th>12</th>\n",
       "      <td>35135aaa6cc23891b40cb3f378c53a17a1127210ce60e1...</td>\n",
       "      <td>b</td>\n",
       "      <td>2025-07-28 12:41:22</td>\n",
       "      <td>PC</td>\n",
       "      <td>2025-07-28</td>\n",
       "      <td>35135aaa6cc23891b40cb3f378c53a17a1127210ce60e1...</td>\n",
       "      <td>file:///opt/source_data/events/batch_2025-07-3...</td>\n",
       "      <td>2025-07-31 00:00:00+00:00</td>\n",
       "      <td>2025-07-31</td>\n",
       "      <td>1753706482000000</td>\n",
       "    </tr>\n",
       "  </tbody>\n",
       "</table>\n",
       "</div>"
      ]
     },
     "execution_count": 260,
     "metadata": {},
     "output_type": "execute_result"
    }
   ],
   "execution_count": 260
  },
  {
   "metadata": {
    "ExecuteTime": {
     "end_time": "2025-08-10T20:15:25.599411Z",
     "start_time": "2025-08-10T20:15:25.584784Z"
    }
   },
   "cell_type": "code",
   "source": "df[[\"user_id\", \"event_id\", \"timestamp\", \"product_code\"]].drop_duplicates().shape",
   "id": "edd8d9171722fc05",
   "outputs": [
    {
     "data": {
      "text/plain": [
       "(523, 4)"
      ]
     },
     "execution_count": 261,
     "metadata": {},
     "output_type": "execute_result"
    }
   ],
   "execution_count": 261
  },
  {
   "metadata": {
    "ExecuteTime": {
     "end_time": "2025-08-10T20:15:25.765880Z",
     "start_time": "2025-08-10T20:15:25.740112Z"
    }
   },
   "cell_type": "code",
   "source": "df",
   "id": "6c20ccf8d101da87",
   "outputs": [
    {
     "data": {
      "text/plain": [
       "                                               user_id event_id  \\\n",
       "0    031b4af5197ec30a926f48cf40e11a7dbc470048a21e40...        c   \n",
       "1    0e17daca5f3e175f448bacace3bc0da47d0655a74c8dd0...        b   \n",
       "2    19581e27de7ced00ff1ce50b2047e7a567c76b1cbaebab...        b   \n",
       "3    1a6562590ef19d1045d06c4055742d38288e9e6dcd71cc...        a   \n",
       "4    1da51b8d8ff98f6a48f80ae79fe3ca6c26e1abb7b7d125...        c   \n",
       "..                                                 ...      ...   \n",
       "518  f5ca38f748a1d6eaf726b8a42fb575c3c71f1864a81433...        c   \n",
       "519  f74efabef12ea619e30b79bddef89cffa9dda494761681...        b   \n",
       "520  f74efabef12ea619e30b79bddef89cffa9dda494761681...        b   \n",
       "521  ff5a1ae012afa5d4c889c50ad427aaf545d31a4fac04ff...        c   \n",
       "522  ff5a1ae012afa5d4c889c50ad427aaf545d31a4fac04ff...        b   \n",
       "\n",
       "              timestamp product_code        date  \\\n",
       "0   2025-07-28 12:23:03           PC  2025-07-28   \n",
       "1   2025-07-28 12:10:40           PC  2025-07-28   \n",
       "2   2025-07-28 12:01:02           IJ  2025-07-28   \n",
       "3   2025-07-28 12:28:39           VS  2025-07-28   \n",
       "4   2025-07-28 12:05:53           IJ  2025-07-28   \n",
       "..                  ...          ...         ...   \n",
       "518 2025-07-31 12:08:36           VS  2025-07-31   \n",
       "519 2025-07-31 12:37:00           IJ  2025-07-31   \n",
       "520 2025-07-31 12:09:52           PC  2025-07-31   \n",
       "521 2025-07-31 12:36:55           IJ  2025-07-31   \n",
       "522 2025-07-31 12:05:12           VS  2025-07-31   \n",
       "\n",
       "                                       user_session_id  \\\n",
       "0    031b4af5197ec30a926f48cf40e11a7dbc470048a21e40...   \n",
       "1    0e17daca5f3e175f448bacace3bc0da47d0655a74c8dd0...   \n",
       "2    19581e27de7ced00ff1ce50b2047e7a567c76b1cbaebab...   \n",
       "3    1a6562590ef19d1045d06c4055742d38288e9e6dcd71cc...   \n",
       "4    1da51b8d8ff98f6a48f80ae79fe3ca6c26e1abb7b7d125...   \n",
       "..                                                 ...   \n",
       "518  f5ca38f748a1d6eaf726b8a42fb575c3c71f1864a81433...   \n",
       "519  f74efabef12ea619e30b79bddef89cffa9dda494761681...   \n",
       "520  f74efabef12ea619e30b79bddef89cffa9dda494761681...   \n",
       "521  ff5a1ae012afa5d4c889c50ad427aaf545d31a4fac04ff...   \n",
       "522  ff5a1ae012afa5d4c889c50ad427aaf545d31a4fac04ff...   \n",
       "\n",
       "                                          _source_file  \\\n",
       "0    file:///opt/source_data/events/batch_2025-07-3...   \n",
       "1    file:///opt/source_data/events/batch_2025-07-3...   \n",
       "2    file:///opt/source_data/events/batch_2025-07-3...   \n",
       "3    file:///opt/source_data/events/batch_2025-07-3...   \n",
       "4    file:///opt/source_data/events/batch_2025-07-3...   \n",
       "..                                                 ...   \n",
       "518  file:///opt/source_data/events/batch_2025-07-3...   \n",
       "519  file:///opt/source_data/events/batch_2025-07-3...   \n",
       "520  file:///opt/source_data/events/batch_2025-07-3...   \n",
       "521  file:///opt/source_data/events/batch_2025-07-3...   \n",
       "522  file:///opt/source_data/events/batch_2025-07-3...   \n",
       "\n",
       "                   _ingest_ts _ingest_date    timestamp_long  \n",
       "0   2025-07-31 00:00:00+00:00   2025-07-31  1753705383000000  \n",
       "1   2025-07-31 00:00:00+00:00   2025-07-31  1753704640000000  \n",
       "2   2025-07-31 00:00:00+00:00   2025-07-31  1753704062000000  \n",
       "3   2025-07-31 00:00:00+00:00   2025-07-31  1753705719000000  \n",
       "4   2025-07-31 00:00:00+00:00   2025-07-31  1753704353000000  \n",
       "..                        ...          ...               ...  \n",
       "518 2025-07-31 00:00:00+00:00   2025-07-31  1753963716000000  \n",
       "519 2025-07-31 00:00:00+00:00   2025-07-31  1753965420000000  \n",
       "520 2025-07-31 00:00:00+00:00   2025-07-31  1753963792000000  \n",
       "521 2025-07-31 00:00:00+00:00   2025-07-31  1753965415000000  \n",
       "522 2025-07-31 00:00:00+00:00   2025-07-31  1753963512000000  \n",
       "\n",
       "[523 rows x 10 columns]"
      ],
      "text/html": [
       "<div>\n",
       "<style scoped>\n",
       "    .dataframe tbody tr th:only-of-type {\n",
       "        vertical-align: middle;\n",
       "    }\n",
       "\n",
       "    .dataframe tbody tr th {\n",
       "        vertical-align: top;\n",
       "    }\n",
       "\n",
       "    .dataframe thead th {\n",
       "        text-align: right;\n",
       "    }\n",
       "</style>\n",
       "<table border=\"1\" class=\"dataframe\">\n",
       "  <thead>\n",
       "    <tr style=\"text-align: right;\">\n",
       "      <th></th>\n",
       "      <th>user_id</th>\n",
       "      <th>event_id</th>\n",
       "      <th>timestamp</th>\n",
       "      <th>product_code</th>\n",
       "      <th>date</th>\n",
       "      <th>user_session_id</th>\n",
       "      <th>_source_file</th>\n",
       "      <th>_ingest_ts</th>\n",
       "      <th>_ingest_date</th>\n",
       "      <th>timestamp_long</th>\n",
       "    </tr>\n",
       "  </thead>\n",
       "  <tbody>\n",
       "    <tr>\n",
       "      <th>0</th>\n",
       "      <td>031b4af5197ec30a926f48cf40e11a7dbc470048a21e40...</td>\n",
       "      <td>c</td>\n",
       "      <td>2025-07-28 12:23:03</td>\n",
       "      <td>PC</td>\n",
       "      <td>2025-07-28</td>\n",
       "      <td>031b4af5197ec30a926f48cf40e11a7dbc470048a21e40...</td>\n",
       "      <td>file:///opt/source_data/events/batch_2025-07-3...</td>\n",
       "      <td>2025-07-31 00:00:00+00:00</td>\n",
       "      <td>2025-07-31</td>\n",
       "      <td>1753705383000000</td>\n",
       "    </tr>\n",
       "    <tr>\n",
       "      <th>1</th>\n",
       "      <td>0e17daca5f3e175f448bacace3bc0da47d0655a74c8dd0...</td>\n",
       "      <td>b</td>\n",
       "      <td>2025-07-28 12:10:40</td>\n",
       "      <td>PC</td>\n",
       "      <td>2025-07-28</td>\n",
       "      <td>0e17daca5f3e175f448bacace3bc0da47d0655a74c8dd0...</td>\n",
       "      <td>file:///opt/source_data/events/batch_2025-07-3...</td>\n",
       "      <td>2025-07-31 00:00:00+00:00</td>\n",
       "      <td>2025-07-31</td>\n",
       "      <td>1753704640000000</td>\n",
       "    </tr>\n",
       "    <tr>\n",
       "      <th>2</th>\n",
       "      <td>19581e27de7ced00ff1ce50b2047e7a567c76b1cbaebab...</td>\n",
       "      <td>b</td>\n",
       "      <td>2025-07-28 12:01:02</td>\n",
       "      <td>IJ</td>\n",
       "      <td>2025-07-28</td>\n",
       "      <td>19581e27de7ced00ff1ce50b2047e7a567c76b1cbaebab...</td>\n",
       "      <td>file:///opt/source_data/events/batch_2025-07-3...</td>\n",
       "      <td>2025-07-31 00:00:00+00:00</td>\n",
       "      <td>2025-07-31</td>\n",
       "      <td>1753704062000000</td>\n",
       "    </tr>\n",
       "    <tr>\n",
       "      <th>3</th>\n",
       "      <td>1a6562590ef19d1045d06c4055742d38288e9e6dcd71cc...</td>\n",
       "      <td>a</td>\n",
       "      <td>2025-07-28 12:28:39</td>\n",
       "      <td>VS</td>\n",
       "      <td>2025-07-28</td>\n",
       "      <td>1a6562590ef19d1045d06c4055742d38288e9e6dcd71cc...</td>\n",
       "      <td>file:///opt/source_data/events/batch_2025-07-3...</td>\n",
       "      <td>2025-07-31 00:00:00+00:00</td>\n",
       "      <td>2025-07-31</td>\n",
       "      <td>1753705719000000</td>\n",
       "    </tr>\n",
       "    <tr>\n",
       "      <th>4</th>\n",
       "      <td>1da51b8d8ff98f6a48f80ae79fe3ca6c26e1abb7b7d125...</td>\n",
       "      <td>c</td>\n",
       "      <td>2025-07-28 12:05:53</td>\n",
       "      <td>IJ</td>\n",
       "      <td>2025-07-28</td>\n",
       "      <td>1da51b8d8ff98f6a48f80ae79fe3ca6c26e1abb7b7d125...</td>\n",
       "      <td>file:///opt/source_data/events/batch_2025-07-3...</td>\n",
       "      <td>2025-07-31 00:00:00+00:00</td>\n",
       "      <td>2025-07-31</td>\n",
       "      <td>1753704353000000</td>\n",
       "    </tr>\n",
       "    <tr>\n",
       "      <th>...</th>\n",
       "      <td>...</td>\n",
       "      <td>...</td>\n",
       "      <td>...</td>\n",
       "      <td>...</td>\n",
       "      <td>...</td>\n",
       "      <td>...</td>\n",
       "      <td>...</td>\n",
       "      <td>...</td>\n",
       "      <td>...</td>\n",
       "      <td>...</td>\n",
       "    </tr>\n",
       "    <tr>\n",
       "      <th>518</th>\n",
       "      <td>f5ca38f748a1d6eaf726b8a42fb575c3c71f1864a81433...</td>\n",
       "      <td>c</td>\n",
       "      <td>2025-07-31 12:08:36</td>\n",
       "      <td>VS</td>\n",
       "      <td>2025-07-31</td>\n",
       "      <td>f5ca38f748a1d6eaf726b8a42fb575c3c71f1864a81433...</td>\n",
       "      <td>file:///opt/source_data/events/batch_2025-07-3...</td>\n",
       "      <td>2025-07-31 00:00:00+00:00</td>\n",
       "      <td>2025-07-31</td>\n",
       "      <td>1753963716000000</td>\n",
       "    </tr>\n",
       "    <tr>\n",
       "      <th>519</th>\n",
       "      <td>f74efabef12ea619e30b79bddef89cffa9dda494761681...</td>\n",
       "      <td>b</td>\n",
       "      <td>2025-07-31 12:37:00</td>\n",
       "      <td>IJ</td>\n",
       "      <td>2025-07-31</td>\n",
       "      <td>f74efabef12ea619e30b79bddef89cffa9dda494761681...</td>\n",
       "      <td>file:///opt/source_data/events/batch_2025-07-3...</td>\n",
       "      <td>2025-07-31 00:00:00+00:00</td>\n",
       "      <td>2025-07-31</td>\n",
       "      <td>1753965420000000</td>\n",
       "    </tr>\n",
       "    <tr>\n",
       "      <th>520</th>\n",
       "      <td>f74efabef12ea619e30b79bddef89cffa9dda494761681...</td>\n",
       "      <td>b</td>\n",
       "      <td>2025-07-31 12:09:52</td>\n",
       "      <td>PC</td>\n",
       "      <td>2025-07-31</td>\n",
       "      <td>f74efabef12ea619e30b79bddef89cffa9dda494761681...</td>\n",
       "      <td>file:///opt/source_data/events/batch_2025-07-3...</td>\n",
       "      <td>2025-07-31 00:00:00+00:00</td>\n",
       "      <td>2025-07-31</td>\n",
       "      <td>1753963792000000</td>\n",
       "    </tr>\n",
       "    <tr>\n",
       "      <th>521</th>\n",
       "      <td>ff5a1ae012afa5d4c889c50ad427aaf545d31a4fac04ff...</td>\n",
       "      <td>c</td>\n",
       "      <td>2025-07-31 12:36:55</td>\n",
       "      <td>IJ</td>\n",
       "      <td>2025-07-31</td>\n",
       "      <td>ff5a1ae012afa5d4c889c50ad427aaf545d31a4fac04ff...</td>\n",
       "      <td>file:///opt/source_data/events/batch_2025-07-3...</td>\n",
       "      <td>2025-07-31 00:00:00+00:00</td>\n",
       "      <td>2025-07-31</td>\n",
       "      <td>1753965415000000</td>\n",
       "    </tr>\n",
       "    <tr>\n",
       "      <th>522</th>\n",
       "      <td>ff5a1ae012afa5d4c889c50ad427aaf545d31a4fac04ff...</td>\n",
       "      <td>b</td>\n",
       "      <td>2025-07-31 12:05:12</td>\n",
       "      <td>VS</td>\n",
       "      <td>2025-07-31</td>\n",
       "      <td>ff5a1ae012afa5d4c889c50ad427aaf545d31a4fac04ff...</td>\n",
       "      <td>file:///opt/source_data/events/batch_2025-07-3...</td>\n",
       "      <td>2025-07-31 00:00:00+00:00</td>\n",
       "      <td>2025-07-31</td>\n",
       "      <td>1753963512000000</td>\n",
       "    </tr>\n",
       "  </tbody>\n",
       "</table>\n",
       "<p>523 rows × 10 columns</p>\n",
       "</div>"
      ]
     },
     "execution_count": 262,
     "metadata": {},
     "output_type": "execute_result"
    }
   ],
   "execution_count": 262
  },
  {
   "metadata": {
    "ExecuteTime": {
     "end_time": "2025-08-10T20:15:25.930804Z",
     "start_time": "2025-08-10T20:15:25.926363Z"
    }
   },
   "cell_type": "code",
   "source": "",
   "id": "afe1a98d91aebca0",
   "outputs": [],
   "execution_count": null
  }
 ],
 "metadata": {
  "kernelspec": {
   "display_name": "Python 3",
   "language": "python",
   "name": "python3"
  },
  "language_info": {
   "codemirror_mode": {
    "name": "ipython",
    "version": 2
   },
   "file_extension": ".py",
   "mimetype": "text/x-python",
   "name": "python",
   "nbconvert_exporter": "python",
   "pygments_lexer": "ipython2",
   "version": "2.7.6"
  }
 },
 "nbformat": 4,
 "nbformat_minor": 5
}
