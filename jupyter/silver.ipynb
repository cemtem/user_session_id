{
 "cells": [
  {
   "cell_type": "code",
   "id": "initial_id",
   "metadata": {
    "collapsed": true,
    "ExecuteTime": {
     "end_time": "2025-08-10T18:07:20.977785Z",
     "start_time": "2025-08-10T18:07:20.973385Z"
    }
   },
   "source": [
    "import pandas as pd\n",
    "import datetime\n",
    "\n",
    "from deltalake import DeltaTable\n",
    "pd.set_option('display.max_colwidth', None)\n"
   ],
   "outputs": [],
   "execution_count": 11
  },
  {
   "metadata": {
    "ExecuteTime": {
     "end_time": "2025-08-10T18:07:21.028388Z",
     "start_time": "2025-08-10T18:07:21.003491Z"
    }
   },
   "cell_type": "code",
   "source": [
    "dt = DeltaTable(\"../data_warehouse/silver/events\")\n",
    "df = dt.to_pandas()"
   ],
   "id": "7bbae1db6ab72648",
   "outputs": [],
   "execution_count": 12
  },
  {
   "metadata": {
    "ExecuteTime": {
     "end_time": "2025-08-10T18:07:21.045909Z",
     "start_time": "2025-08-10T18:07:21.040526Z"
    }
   },
   "cell_type": "code",
   "source": "df.shape",
   "id": "4eabc95bcbff2047",
   "outputs": [
    {
     "data": {
      "text/plain": [
       "(1615, 8)"
      ]
     },
     "execution_count": 13,
     "metadata": {},
     "output_type": "execute_result"
    }
   ],
   "execution_count": 13
  },
  {
   "metadata": {
    "ExecuteTime": {
     "end_time": "2025-08-10T18:07:21.080119Z",
     "start_time": "2025-08-10T18:07:21.072994Z"
    }
   },
   "cell_type": "code",
   "source": "df.drop_duplicates().shape",
   "id": "bc6f7a139b3f414",
   "outputs": [
    {
     "data": {
      "text/plain": [
       "(1615, 8)"
      ]
     },
     "execution_count": 14,
     "metadata": {},
     "output_type": "execute_result"
    }
   ],
   "execution_count": 14
  },
  {
   "metadata": {
    "ExecuteTime": {
     "end_time": "2025-08-10T18:07:21.114779Z",
     "start_time": "2025-08-10T18:07:21.101756Z"
    }
   },
   "cell_type": "code",
   "source": "df",
   "id": "3ee963289c077a44",
   "outputs": [
    {
     "data": {
      "text/plain": [
       "                                                               user_id  \\\n",
       "0     69f59c273b6e669ac32a6dd5e1b2cb63333d8b004f9696447aee2d422ce63763   \n",
       "1     031b4af5197ec30a926f48cf40e11a7dbc470048a21e4003b7a3c07c5dab1baa   \n",
       "2     86e50149658661312a9e0b35558d84f6c6d3da797f552a9657fe0558ca40cdef   \n",
       "3     7688b6ef52555962d008fff894223582c484517cea7da49ee67800adc7fc8866   \n",
       "4     811786ad1ae74adfdd20dd0372abaaebc6246e343aebd01da0bfc4c02bf0106c   \n",
       "...                                                                ...   \n",
       "1610  a68b412c4282555f15546cf6e1fc42893b7e07f271557ceb021821098dd66c1b   \n",
       "1611  e3d6c4d4599e00882384ca981ee287ed961fa5f3828e2adb5e9ea890ab0d0525   \n",
       "1612  69f59c273b6e669ac32a6dd5e1b2cb63333d8b004f9696447aee2d422ce63763   \n",
       "1613  71ee45a3c0db9a9865f7313dd3372cf60dca6479d46261f3542eb9346e4a04d6   \n",
       "1614  eb624dbe56eb6620ae62080c10a273cab73ae8eca98ab17b731446a31c79393a   \n",
       "\n",
       "     event_id           timestamp product_code        date  \\\n",
       "0           b 2025-07-30 12:29:10           PC  2025-07-30   \n",
       "1           b 2025-07-30 12:06:13           VS  2025-07-30   \n",
       "2           a 2025-07-30 12:31:59           PC  2025-07-30   \n",
       "3           a 2025-07-30 12:01:10           PC  2025-07-30   \n",
       "4           b 2025-07-30 12:20:41           VS  2025-07-30   \n",
       "...       ...                 ...          ...         ...   \n",
       "1610        a 2025-07-31 12:18:05           PC  2025-07-31   \n",
       "1611        b 2025-07-31 12:12:34           PC  2025-07-31   \n",
       "1612        a 2025-07-31 12:18:05           PC  2025-07-31   \n",
       "1613        a 2025-07-31 12:29:42           VS  2025-07-31   \n",
       "1614        a 2025-07-31 12:01:39           IJ  2025-07-31   \n",
       "\n",
       "                                                 _source_file  \\\n",
       "0     file:///opt/source_data/events/batch_2025-08-02.parquet   \n",
       "1     file:///opt/source_data/events/batch_2025-08-02.parquet   \n",
       "2     file:///opt/source_data/events/batch_2025-08-02.parquet   \n",
       "3     file:///opt/source_data/events/batch_2025-08-02.parquet   \n",
       "4     file:///opt/source_data/events/batch_2025-08-02.parquet   \n",
       "...                                                       ...   \n",
       "1610  file:///opt/source_data/events/batch_2025-07-31.parquet   \n",
       "1611  file:///opt/source_data/events/batch_2025-07-31.parquet   \n",
       "1612  file:///opt/source_data/events/batch_2025-07-31.parquet   \n",
       "1613  file:///opt/source_data/events/batch_2025-07-31.parquet   \n",
       "1614  file:///opt/source_data/events/batch_2025-07-31.parquet   \n",
       "\n",
       "                    _ingest_ts _ingest_date  \n",
       "0    2025-08-02 00:00:00+00:00   2025-08-02  \n",
       "1    2025-08-02 00:00:00+00:00   2025-08-02  \n",
       "2    2025-08-02 00:00:00+00:00   2025-08-02  \n",
       "3    2025-08-02 00:00:00+00:00   2025-08-02  \n",
       "4    2025-08-02 00:00:00+00:00   2025-08-02  \n",
       "...                        ...          ...  \n",
       "1610 2025-07-31 00:00:00+00:00   2025-07-31  \n",
       "1611 2025-07-31 00:00:00+00:00   2025-07-31  \n",
       "1612 2025-07-31 00:00:00+00:00   2025-07-31  \n",
       "1613 2025-07-31 00:00:00+00:00   2025-07-31  \n",
       "1614 2025-07-31 00:00:00+00:00   2025-07-31  \n",
       "\n",
       "[1615 rows x 8 columns]"
      ],
      "text/html": [
       "<div>\n",
       "<style scoped>\n",
       "    .dataframe tbody tr th:only-of-type {\n",
       "        vertical-align: middle;\n",
       "    }\n",
       "\n",
       "    .dataframe tbody tr th {\n",
       "        vertical-align: top;\n",
       "    }\n",
       "\n",
       "    .dataframe thead th {\n",
       "        text-align: right;\n",
       "    }\n",
       "</style>\n",
       "<table border=\"1\" class=\"dataframe\">\n",
       "  <thead>\n",
       "    <tr style=\"text-align: right;\">\n",
       "      <th></th>\n",
       "      <th>user_id</th>\n",
       "      <th>event_id</th>\n",
       "      <th>timestamp</th>\n",
       "      <th>product_code</th>\n",
       "      <th>date</th>\n",
       "      <th>_source_file</th>\n",
       "      <th>_ingest_ts</th>\n",
       "      <th>_ingest_date</th>\n",
       "    </tr>\n",
       "  </thead>\n",
       "  <tbody>\n",
       "    <tr>\n",
       "      <th>0</th>\n",
       "      <td>69f59c273b6e669ac32a6dd5e1b2cb63333d8b004f9696447aee2d422ce63763</td>\n",
       "      <td>b</td>\n",
       "      <td>2025-07-30 12:29:10</td>\n",
       "      <td>PC</td>\n",
       "      <td>2025-07-30</td>\n",
       "      <td>file:///opt/source_data/events/batch_2025-08-02.parquet</td>\n",
       "      <td>2025-08-02 00:00:00+00:00</td>\n",
       "      <td>2025-08-02</td>\n",
       "    </tr>\n",
       "    <tr>\n",
       "      <th>1</th>\n",
       "      <td>031b4af5197ec30a926f48cf40e11a7dbc470048a21e4003b7a3c07c5dab1baa</td>\n",
       "      <td>b</td>\n",
       "      <td>2025-07-30 12:06:13</td>\n",
       "      <td>VS</td>\n",
       "      <td>2025-07-30</td>\n",
       "      <td>file:///opt/source_data/events/batch_2025-08-02.parquet</td>\n",
       "      <td>2025-08-02 00:00:00+00:00</td>\n",
       "      <td>2025-08-02</td>\n",
       "    </tr>\n",
       "    <tr>\n",
       "      <th>2</th>\n",
       "      <td>86e50149658661312a9e0b35558d84f6c6d3da797f552a9657fe0558ca40cdef</td>\n",
       "      <td>a</td>\n",
       "      <td>2025-07-30 12:31:59</td>\n",
       "      <td>PC</td>\n",
       "      <td>2025-07-30</td>\n",
       "      <td>file:///opt/source_data/events/batch_2025-08-02.parquet</td>\n",
       "      <td>2025-08-02 00:00:00+00:00</td>\n",
       "      <td>2025-08-02</td>\n",
       "    </tr>\n",
       "    <tr>\n",
       "      <th>3</th>\n",
       "      <td>7688b6ef52555962d008fff894223582c484517cea7da49ee67800adc7fc8866</td>\n",
       "      <td>a</td>\n",
       "      <td>2025-07-30 12:01:10</td>\n",
       "      <td>PC</td>\n",
       "      <td>2025-07-30</td>\n",
       "      <td>file:///opt/source_data/events/batch_2025-08-02.parquet</td>\n",
       "      <td>2025-08-02 00:00:00+00:00</td>\n",
       "      <td>2025-08-02</td>\n",
       "    </tr>\n",
       "    <tr>\n",
       "      <th>4</th>\n",
       "      <td>811786ad1ae74adfdd20dd0372abaaebc6246e343aebd01da0bfc4c02bf0106c</td>\n",
       "      <td>b</td>\n",
       "      <td>2025-07-30 12:20:41</td>\n",
       "      <td>VS</td>\n",
       "      <td>2025-07-30</td>\n",
       "      <td>file:///opt/source_data/events/batch_2025-08-02.parquet</td>\n",
       "      <td>2025-08-02 00:00:00+00:00</td>\n",
       "      <td>2025-08-02</td>\n",
       "    </tr>\n",
       "    <tr>\n",
       "      <th>...</th>\n",
       "      <td>...</td>\n",
       "      <td>...</td>\n",
       "      <td>...</td>\n",
       "      <td>...</td>\n",
       "      <td>...</td>\n",
       "      <td>...</td>\n",
       "      <td>...</td>\n",
       "      <td>...</td>\n",
       "    </tr>\n",
       "    <tr>\n",
       "      <th>1610</th>\n",
       "      <td>a68b412c4282555f15546cf6e1fc42893b7e07f271557ceb021821098dd66c1b</td>\n",
       "      <td>a</td>\n",
       "      <td>2025-07-31 12:18:05</td>\n",
       "      <td>PC</td>\n",
       "      <td>2025-07-31</td>\n",
       "      <td>file:///opt/source_data/events/batch_2025-07-31.parquet</td>\n",
       "      <td>2025-07-31 00:00:00+00:00</td>\n",
       "      <td>2025-07-31</td>\n",
       "    </tr>\n",
       "    <tr>\n",
       "      <th>1611</th>\n",
       "      <td>e3d6c4d4599e00882384ca981ee287ed961fa5f3828e2adb5e9ea890ab0d0525</td>\n",
       "      <td>b</td>\n",
       "      <td>2025-07-31 12:12:34</td>\n",
       "      <td>PC</td>\n",
       "      <td>2025-07-31</td>\n",
       "      <td>file:///opt/source_data/events/batch_2025-07-31.parquet</td>\n",
       "      <td>2025-07-31 00:00:00+00:00</td>\n",
       "      <td>2025-07-31</td>\n",
       "    </tr>\n",
       "    <tr>\n",
       "      <th>1612</th>\n",
       "      <td>69f59c273b6e669ac32a6dd5e1b2cb63333d8b004f9696447aee2d422ce63763</td>\n",
       "      <td>a</td>\n",
       "      <td>2025-07-31 12:18:05</td>\n",
       "      <td>PC</td>\n",
       "      <td>2025-07-31</td>\n",
       "      <td>file:///opt/source_data/events/batch_2025-07-31.parquet</td>\n",
       "      <td>2025-07-31 00:00:00+00:00</td>\n",
       "      <td>2025-07-31</td>\n",
       "    </tr>\n",
       "    <tr>\n",
       "      <th>1613</th>\n",
       "      <td>71ee45a3c0db9a9865f7313dd3372cf60dca6479d46261f3542eb9346e4a04d6</td>\n",
       "      <td>a</td>\n",
       "      <td>2025-07-31 12:29:42</td>\n",
       "      <td>VS</td>\n",
       "      <td>2025-07-31</td>\n",
       "      <td>file:///opt/source_data/events/batch_2025-07-31.parquet</td>\n",
       "      <td>2025-07-31 00:00:00+00:00</td>\n",
       "      <td>2025-07-31</td>\n",
       "    </tr>\n",
       "    <tr>\n",
       "      <th>1614</th>\n",
       "      <td>eb624dbe56eb6620ae62080c10a273cab73ae8eca98ab17b731446a31c79393a</td>\n",
       "      <td>a</td>\n",
       "      <td>2025-07-31 12:01:39</td>\n",
       "      <td>IJ</td>\n",
       "      <td>2025-07-31</td>\n",
       "      <td>file:///opt/source_data/events/batch_2025-07-31.parquet</td>\n",
       "      <td>2025-07-31 00:00:00+00:00</td>\n",
       "      <td>2025-07-31</td>\n",
       "    </tr>\n",
       "  </tbody>\n",
       "</table>\n",
       "<p>1615 rows × 8 columns</p>\n",
       "</div>"
      ]
     },
     "execution_count": 15,
     "metadata": {},
     "output_type": "execute_result"
    }
   ],
   "execution_count": 15
  },
  {
   "metadata": {
    "ExecuteTime": {
     "end_time": "2025-08-10T18:07:21.189923Z",
     "start_time": "2025-08-10T18:07:21.187798Z"
    }
   },
   "cell_type": "code",
   "source": "",
   "id": "83586d833684702f",
   "outputs": [],
   "execution_count": null
  }
 ],
 "metadata": {
  "kernelspec": {
   "display_name": "Python 3",
   "language": "python",
   "name": "python3"
  },
  "language_info": {
   "codemirror_mode": {
    "name": "ipython",
    "version": 2
   },
   "file_extension": ".py",
   "mimetype": "text/x-python",
   "name": "python",
   "nbconvert_exporter": "python",
   "pygments_lexer": "ipython2",
   "version": "2.7.6"
  }
 },
 "nbformat": 4,
 "nbformat_minor": 5
}
