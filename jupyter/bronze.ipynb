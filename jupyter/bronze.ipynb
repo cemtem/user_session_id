{
 "cells": [
  {
   "cell_type": "code",
   "id": "initial_id",
   "metadata": {
    "collapsed": true,
    "ExecuteTime": {
     "end_time": "2025-08-10T20:14:46.045885Z",
     "start_time": "2025-08-10T20:14:46.040965Z"
    }
   },
   "source": [
    "import pandas as pd\n",
    "from deltalake import DeltaTable\n",
    "import pyarrow as pa"
   ],
   "outputs": [],
   "execution_count": 119
  },
  {
   "metadata": {
    "ExecuteTime": {
     "end_time": "2025-08-10T20:14:46.111372Z",
     "start_time": "2025-08-10T20:14:46.085920Z"
    }
   },
   "cell_type": "code",
   "source": [
    "dt = DeltaTable(\"../data_warehouse/bronze/events\")\n",
    "df = dt.to_pandas()"
   ],
   "id": "4373d8a794a12c9d",
   "outputs": [],
   "execution_count": 120
  },
  {
   "metadata": {
    "ExecuteTime": {
     "end_time": "2025-08-10T20:14:46.146598Z",
     "start_time": "2025-08-10T20:14:46.137873Z"
    }
   },
   "cell_type": "code",
   "source": "df.shape",
   "id": "cb808a97c939a913",
   "outputs": [
    {
     "data": {
      "text/plain": [
       "(1012, 8)"
      ]
     },
     "execution_count": 121,
     "metadata": {},
     "output_type": "execute_result"
    }
   ],
   "execution_count": 121
  },
  {
   "metadata": {
    "ExecuteTime": {
     "end_time": "2025-08-10T20:14:46.233332Z",
     "start_time": "2025-08-10T20:14:46.218513Z"
    }
   },
   "cell_type": "code",
   "source": "count_df = df.groupby([\"user_id\", \"event_id\", \"timestamp\", \"product_code\"]).size().reset_index(name=\"count\")",
   "id": "53b899baf102931c",
   "outputs": [],
   "execution_count": 122
  },
  {
   "metadata": {
    "ExecuteTime": {
     "end_time": "2025-08-10T20:14:46.288308Z",
     "start_time": "2025-08-10T20:14:46.278886Z"
    }
   },
   "cell_type": "code",
   "source": "df[\"date\"].drop_duplicates()",
   "id": "2ebcbb5b228c3c23",
   "outputs": [
    {
     "data": {
      "text/plain": [
       "0      2025-07-28\n",
       "178    2025-07-29\n",
       "432    2025-07-30\n",
       "721    2025-07-31\n",
       "Name: date, dtype: object"
      ]
     },
     "execution_count": 123,
     "metadata": {},
     "output_type": "execute_result"
    }
   ],
   "execution_count": 123
  },
  {
   "metadata": {
    "ExecuteTime": {
     "end_time": "2025-08-10T20:14:46.471190Z",
     "start_time": "2025-08-10T20:14:46.453464Z"
    }
   },
   "cell_type": "code",
   "source": "count_df[count_df[\"count\"] > 1]",
   "id": "58303fa93d52e884",
   "outputs": [
    {
     "data": {
      "text/plain": [
       "Empty DataFrame\n",
       "Columns: [user_id, event_id, timestamp, product_code, count]\n",
       "Index: []"
      ],
      "text/html": [
       "<div>\n",
       "<style scoped>\n",
       "    .dataframe tbody tr th:only-of-type {\n",
       "        vertical-align: middle;\n",
       "    }\n",
       "\n",
       "    .dataframe tbody tr th {\n",
       "        vertical-align: top;\n",
       "    }\n",
       "\n",
       "    .dataframe thead th {\n",
       "        text-align: right;\n",
       "    }\n",
       "</style>\n",
       "<table border=\"1\" class=\"dataframe\">\n",
       "  <thead>\n",
       "    <tr style=\"text-align: right;\">\n",
       "      <th></th>\n",
       "      <th>user_id</th>\n",
       "      <th>event_id</th>\n",
       "      <th>timestamp</th>\n",
       "      <th>product_code</th>\n",
       "      <th>count</th>\n",
       "    </tr>\n",
       "  </thead>\n",
       "  <tbody>\n",
       "  </tbody>\n",
       "</table>\n",
       "</div>"
      ]
     },
     "execution_count": 124,
     "metadata": {},
     "output_type": "execute_result"
    }
   ],
   "execution_count": 124
  },
  {
   "metadata": {
    "ExecuteTime": {
     "end_time": "2025-08-10T20:14:46.625054Z",
     "start_time": "2025-08-10T20:14:46.619380Z"
    }
   },
   "cell_type": "code",
   "source": "",
   "id": "e4b4e866f52adfd",
   "outputs": [],
   "execution_count": null
  }
 ],
 "metadata": {
  "kernelspec": {
   "display_name": "Python 3",
   "language": "python",
   "name": "python3"
  },
  "language_info": {
   "codemirror_mode": {
    "name": "ipython",
    "version": 2
   },
   "file_extension": ".py",
   "mimetype": "text/x-python",
   "name": "python",
   "nbconvert_exporter": "python",
   "pygments_lexer": "ipython2",
   "version": "2.7.6"
  }
 },
 "nbformat": 4,
 "nbformat_minor": 5
}
